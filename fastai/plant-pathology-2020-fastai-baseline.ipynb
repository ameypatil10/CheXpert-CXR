{
 "cells": [
  {
   "cell_type": "code",
   "execution_count": 1,
   "metadata": {
    "id": "rLBO99Alz-SU"
   },
   "outputs": [],
   "source": [
    "%reload_ext autoreload\n",
    "%autoreload 2\n",
    "%matplotlib inline"
   ]
  },
  {
   "cell_type": "code",
   "execution_count": 2,
   "metadata": {
    "id": "Ol-2zR35-DIN"
   },
   "outputs": [],
   "source": [
    "import os\n",
    "import pandas as pd\n",
    "import numpy as np\n",
    "from fastai.vision import *\n",
    "from fastai.metrics import error_rate\n",
    "\n",
    "torch.manual_seed(121)\n",
    "torch.backends.cudnn.deterministic = True\n",
    "torch.backends.cudnn.benchmark = False\n",
    "np.random.seed(121)"
   ]
  },
  {
   "cell_type": "code",
   "execution_count": null,
   "metadata": {
    "id": "AsWUfNdsz-Se"
   },
   "outputs": [],
   "source": [
    "df = pd.read_csv('../input/plant-pathology-2020-fgvc7/train.csv')\n",
    "labels = np.array(df.iloc[:, 1:])\n",
    "labels = np.where(labels==1)[1]\n",
    "\n",
    "df['label'] = labels\n",
    "df.to_csv('./train_data.csv', index=False)"
   ]
  },
  {
   "cell_type": "code",
   "execution_count": null,
   "metadata": {
    "id": "yCKtysXXz-Sk"
   },
   "outputs": [],
   "source": [
    "BS = 32\n",
    "IMG_SZ = 512\n",
    "CLASS_WT = torch.FloatTensor([1.0, 1.0, 1.0, 1.0])\n",
    "\n",
    "GPU_IDS = [0,1,2]\n",
    "torch.cuda.set_device(0)\n",
    "\n",
    "label_dict = {0: 'healthy',\n",
    "              1: 'multiple_diseases',\n",
    "              2: 'rust',\n",
    "              3: 'scab',\n",
    "              'micro': 'micro',\n",
    "              'macro': 'macro',\n",
    "             }"
   ]
  },
  {
   "cell_type": "code",
   "execution_count": null,
   "metadata": {
    "id": "vLVWjmG7z-Sp"
   },
   "outputs": [],
   "source": [
    "data_tfms = get_transforms(do_flip=True, flip_vert=True, max_rotate=None, max_zoom=1, max_lighting=None,\n",
    "                          max_warp=0, p_affine=0, p_lighting=0)\n",
    "\n",
    "data = ImageDataBunch.from_csv('../input/plant-pathology-2020-fgvc7', csv_labels='../../working/train_data.csv', folder='images', \n",
    "                               label_col=5, suffix='.jpg', valid_pct=0.2, ds_tfms=data_tfms,\n",
    "                               bs=BS, size=IMG_SZ).normalize(imagenet_stats)\n",
    "data.show_batch(rows=3, figsize=(7,6))"
   ]
  },
  {
   "cell_type": "code",
   "execution_count": null,
   "metadata": {
    "id": "cmgMmhOdmEk9",
    "outputId": "da05d4bb-d982-47b6-a7cb-5dd7f4661be2"
   },
   "outputs": [],
   "source": [
    "print(data.train_ds)\n",
    "print(data.valid_ds)"
   ]
  },
  {
   "cell_type": "code",
   "execution_count": null,
   "metadata": {
    "id": "BF3fe27Cz-Sv"
   },
   "outputs": [],
   "source": [
    "from sklearn.metrics import roc_curve, auc\n",
    "class AUC(Callback):\n",
    "\n",
    "    def __init__(self, num_cl, pick='micro'):\n",
    "        self.id_to_class = label_dict\n",
    "        self.name = str(self.id_to_class[pick])+'-AUC'\n",
    "        self.pick = pick\n",
    "        self.num_cl = num_cl\n",
    "        \n",
    "    \n",
    "    def on_epoch_begin(self, **kwargs):\n",
    "        self.outputs, self.targets = [], []\n",
    "    \n",
    "    def on_batch_end(self, last_output, last_target, **kwargs):\n",
    "        self.outputs.append(last_output)\n",
    "        self.targets.append(last_target)\n",
    "    \n",
    "    def on_epoch_end(self, last_metrics, **kwargs):\n",
    "        self.outputs = F.softmax(torch.cat(self.outputs), dim=1).cpu().detach().numpy()\n",
    "        self.targets = torch.cat(self.targets).cpu().numpy().reshape(-1)\n",
    "        self.targets = np.eye(self.num_cl)[self.targets]\n",
    "        fpr, tpr, roc_auc = {}, {}, {}\n",
    "        for i in range(self.num_cl):\n",
    "          fpr[i], tpr[i], _ = roc_curve(self.targets[:, i], self.outputs[:, i])\n",
    "          roc_auc[self.id_to_class[i]] = auc(fpr[i], tpr[i])\n",
    "        \n",
    "        # Compute micro-average ROC curve and ROC area\n",
    "        fpr[\"micro\"], tpr[\"micro\"], _ = roc_curve(self.targets.ravel(), self.outputs.ravel())\n",
    "        roc_auc[\"micro\"] = auc(fpr[\"micro\"], tpr[\"micro\"])\n",
    "        all_fpr = np.unique(np.concatenate([fpr[i] for i in range(self.num_cl)]))\n",
    "\n",
    "        # Then interpolate all ROC curves at this points\n",
    "        mean_tpr = np.zeros_like(all_fpr)\n",
    "        for i in range(self.num_cl):\n",
    "            mean_tpr += np.interp(all_fpr, fpr[i], tpr[i])\n",
    "\n",
    "        # Finally average it and compute AUC\n",
    "        mean_tpr /= self.num_cl\n",
    "\n",
    "        fpr[\"macro\"] = all_fpr\n",
    "        tpr[\"macro\"] = mean_tpr\n",
    "        roc_auc[\"macro\"] = auc(fpr[\"macro\"], tpr[\"macro\"])\n",
    "        return add_metrics(last_metrics, roc_auc[self.id_to_class[self.pick]])\n"
   ]
  },
  {
   "cell_type": "code",
   "execution_count": null,
   "metadata": {},
   "outputs": [],
   "source": [
    "# !pip install efficientnet_pytorch\n",
    "from efficientnet_pytorch import EfficientNet\n",
    "\n",
    "model_name = 'efficientnet-b7'\n",
    "def getModel():\n",
    "    model = EfficientNet.from_pretrained(model_name)\n",
    "#     model._bn1 = nn.Identity()\n",
    "    model._fc = nn.Linear(1536,data.c)\n",
    "    return model"
   ]
  },
  {
   "cell_type": "code",
   "execution_count": null,
   "metadata": {
    "id": "MjxW8euAz-Sy"
   },
   "outputs": [],
   "source": [
    "learn = Learner(data, getModel(), model_dir='/kaggle/working/',\n",
    "                    metrics=[accuracy, AUC(num_cl=4, pick=0), AUC(num_cl=4, pick=1), AUC(num_cl=4, pick=2), AUC(num_cl=4, pick=3), AUC(num_cl=4, pick='macro')])\n",
    "# learn.loss_func = nn.CrossEntropyLoss(weight=CLASS_WT)\n",
    "learn.model = torch.nn.DataParallel(learn.model, device_ids=GPU_IDS)"
   ]
  },
  {
   "cell_type": "code",
   "execution_count": null,
   "metadata": {
    "id": "48jC0mZkz-S5",
    "outputId": "188852d1-de3e-430a-a691-19841b77a954"
   },
   "outputs": [],
   "source": [
    "# preds,y,losses = learn.get_preds(with_loss=True)\n",
    "# interp = ClassificationInterpretation(learn, preds, y, losses)\n",
    "# interp.plot_top_losses(9, figsize=(15,11))\n",
    "# interp.plot_confusion_matrix(figsize=(6,6), dpi=60)"
   ]
  },
  {
   "cell_type": "code",
   "execution_count": null,
   "metadata": {
    "id": "1-4zPCbgEcJX",
    "outputId": "52c8e7d8-7e98-4e5e-902f-db49a5243f0d"
   },
   "outputs": [],
   "source": [
    "learn.unfreeze()\n",
    "\n",
    "learn.lr_find()\n",
    "learn.recorder.plot()"
   ]
  },
  {
   "cell_type": "code",
   "execution_count": null,
   "metadata": {
    "id": "zAo7U2nsKJ0-",
    "outputId": "cc563965-c388-4538-bf06-60b40c08204e"
   },
   "outputs": [],
   "source": [
    "learn.fit_one_cycle(5, max_lr=1e-3)\n",
    "learn.save('draft-efficientnet-B3')"
   ]
  },
  {
   "cell_type": "code",
   "execution_count": null,
   "metadata": {},
   "outputs": [],
   "source": [
    "# learn.fit_one_cycle(2, max_lr=1e-3)\n",
    "# learn.save('draft-efficientnet-B3')"
   ]
  },
  {
   "cell_type": "code",
   "execution_count": null,
   "metadata": {},
   "outputs": [],
   "source": [
    "learn.lr_find()\n",
    "learn.recorder.plot()"
   ]
  },
  {
   "cell_type": "code",
   "execution_count": null,
   "metadata": {},
   "outputs": [],
   "source": [
    "learn.unfreeze()\n",
    "learn.fit_one_cycle(4, max_lr=1e-4)\n",
    "learn.save('draft-efficientnet-B3')\n",
    "learn.recorder.plot_losses()"
   ]
  },
  {
   "cell_type": "code",
   "execution_count": null,
   "metadata": {},
   "outputs": [],
   "source": [
    "learn.lr_find()\n",
    "learn.recorder.plot()"
   ]
  },
  {
   "cell_type": "code",
   "execution_count": null,
   "metadata": {},
   "outputs": [],
   "source": [
    "learn.unfreeze()\n",
    "learn.fit_one_cycle(4, max_lr=1e-6)\n",
    "learn.save('final-efficientnet-B3')"
   ]
  },
  {
   "cell_type": "code",
   "execution_count": null,
   "metadata": {
    "id": "HaoZEtQDKc94"
   },
   "outputs": [],
   "source": [
    "test_df = pd.read_csv('../input/plant-pathology-2020-fgvc7/test.csv')"
   ]
  },
  {
   "cell_type": "code",
   "execution_count": null,
   "metadata": {},
   "outputs": [],
   "source": [
    "test = ImageList.from_df(test_df, '../input/plant-pathology-2020-fgvc7/images/', suffix='.jpg')\n",
    "data.add_test(test)\n",
    "print(data)"
   ]
  },
  {
   "cell_type": "code",
   "execution_count": null,
   "metadata": {},
   "outputs": [],
   "source": [
    "preds, *_ = learn.get_preds(ds_type=DatasetType.Test)"
   ]
  },
  {
   "cell_type": "code",
   "execution_count": null,
   "metadata": {},
   "outputs": [],
   "source": [
    "sub = pd.read_csv('../input/plant-pathology-2020-fgvc7/sample_submission.csv')\n",
    "for lbl in range(4): \n",
    "    sub[[label_dict[lbl]]] = preds.detach().numpy()[:, lbl]\n",
    "sub.head"
   ]
  },
  {
   "cell_type": "code",
   "execution_count": null,
   "metadata": {},
   "outputs": [],
   "source": [
    "sub.to_csv('submission.csv', index=False)"
   ]
  },
  {
   "cell_type": "code",
   "execution_count": null,
   "metadata": {},
   "outputs": [],
   "source": []
  }
 ],
 "metadata": {
  "accelerator": "GPU",
  "colab": {
   "collapsed_sections": [],
   "name": "fastai-baseline.ipynb",
   "provenance": []
  },
  "kernelspec": {
   "display_name": "Python 3",
   "language": "python",
   "name": "python3"
  },
  "language_info": {
   "codemirror_mode": {
    "name": "ipython",
    "version": 3
   },
   "file_extension": ".py",
   "mimetype": "text/x-python",
   "name": "python",
   "nbconvert_exporter": "python",
   "pygments_lexer": "ipython3",
   "version": "3.6.8"
  },
  "widgets": {
   "application/vnd.jupyter.widget-state+json": {
    "state": {
     "102a16ece7a9411e8be60826dd841335": {
      "model_module": "@jupyter-widgets/controls",
      "model_module_version": "1.5.0",
      "model_name": "HBoxModel",
      "state": {
       "_dom_classes": [],
       "_model_module": "@jupyter-widgets/controls",
       "_model_module_version": "1.5.0",
       "_model_name": "HBoxModel",
       "_view_count": null,
       "_view_module": "@jupyter-widgets/controls",
       "_view_module_version": "1.5.0",
       "_view_name": "HBoxView",
       "box_style": "",
       "children": [
        "IPY_MODEL_fa48a66dc95949fb8eba3403e312e1e5",
        "IPY_MODEL_c4eaf61b896b44b389e5d98244224d96"
       ],
       "layout": "IPY_MODEL_8e0fe856a26e4a2d8a2c03a6d544036d"
      }
     },
     "4d2c8179f484470d84e7f97c69b4fe2b": {
      "model_module": "@jupyter-widgets/controls",
      "model_module_version": "1.5.0",
      "model_name": "DescriptionStyleModel",
      "state": {
       "_model_module": "@jupyter-widgets/controls",
       "_model_module_version": "1.5.0",
       "_model_name": "DescriptionStyleModel",
       "_view_count": null,
       "_view_module": "@jupyter-widgets/base",
       "_view_module_version": "1.2.0",
       "_view_name": "StyleView",
       "description_width": ""
      }
     },
     "8e0fe856a26e4a2d8a2c03a6d544036d": {
      "model_module": "@jupyter-widgets/base",
      "model_module_version": "1.2.0",
      "model_name": "LayoutModel",
      "state": {
       "_model_module": "@jupyter-widgets/base",
       "_model_module_version": "1.2.0",
       "_model_name": "LayoutModel",
       "_view_count": null,
       "_view_module": "@jupyter-widgets/base",
       "_view_module_version": "1.2.0",
       "_view_name": "LayoutView",
       "align_content": null,
       "align_items": null,
       "align_self": null,
       "border": null,
       "bottom": null,
       "display": null,
       "flex": null,
       "flex_flow": null,
       "grid_area": null,
       "grid_auto_columns": null,
       "grid_auto_flow": null,
       "grid_auto_rows": null,
       "grid_column": null,
       "grid_gap": null,
       "grid_row": null,
       "grid_template_areas": null,
       "grid_template_columns": null,
       "grid_template_rows": null,
       "height": null,
       "justify_content": null,
       "justify_items": null,
       "left": null,
       "margin": null,
       "max_height": null,
       "max_width": null,
       "min_height": null,
       "min_width": null,
       "object_fit": null,
       "object_position": null,
       "order": null,
       "overflow": null,
       "overflow_x": null,
       "overflow_y": null,
       "padding": null,
       "right": null,
       "top": null,
       "visibility": null,
       "width": null
      }
     },
     "c09457eaf2894a098a72f5d597a231f8": {
      "model_module": "@jupyter-widgets/base",
      "model_module_version": "1.2.0",
      "model_name": "LayoutModel",
      "state": {
       "_model_module": "@jupyter-widgets/base",
       "_model_module_version": "1.2.0",
       "_model_name": "LayoutModel",
       "_view_count": null,
       "_view_module": "@jupyter-widgets/base",
       "_view_module_version": "1.2.0",
       "_view_name": "LayoutView",
       "align_content": null,
       "align_items": null,
       "align_self": null,
       "border": null,
       "bottom": null,
       "display": null,
       "flex": null,
       "flex_flow": null,
       "grid_area": null,
       "grid_auto_columns": null,
       "grid_auto_flow": null,
       "grid_auto_rows": null,
       "grid_column": null,
       "grid_gap": null,
       "grid_row": null,
       "grid_template_areas": null,
       "grid_template_columns": null,
       "grid_template_rows": null,
       "height": null,
       "justify_content": null,
       "justify_items": null,
       "left": null,
       "margin": null,
       "max_height": null,
       "max_width": null,
       "min_height": null,
       "min_width": null,
       "object_fit": null,
       "object_position": null,
       "order": null,
       "overflow": null,
       "overflow_x": null,
       "overflow_y": null,
       "padding": null,
       "right": null,
       "top": null,
       "visibility": null,
       "width": null
      }
     },
     "c3ed41197b674931a0944b692e2402d2": {
      "model_module": "@jupyter-widgets/controls",
      "model_module_version": "1.5.0",
      "model_name": "ProgressStyleModel",
      "state": {
       "_model_module": "@jupyter-widgets/controls",
       "_model_module_version": "1.5.0",
       "_model_name": "ProgressStyleModel",
       "_view_count": null,
       "_view_module": "@jupyter-widgets/base",
       "_view_module_version": "1.2.0",
       "_view_name": "StyleView",
       "bar_color": null,
       "description_width": "initial"
      }
     },
     "c4eaf61b896b44b389e5d98244224d96": {
      "model_module": "@jupyter-widgets/controls",
      "model_module_version": "1.5.0",
      "model_name": "HTMLModel",
      "state": {
       "_dom_classes": [],
       "_model_module": "@jupyter-widgets/controls",
       "_model_module_version": "1.5.0",
       "_model_name": "HTMLModel",
       "_view_count": null,
       "_view_module": "@jupyter-widgets/controls",
       "_view_module_version": "1.5.0",
       "_view_name": "HTMLView",
       "description": "",
       "description_tooltip": null,
       "layout": "IPY_MODEL_c09457eaf2894a098a72f5d597a231f8",
       "placeholder": "​",
       "style": "IPY_MODEL_4d2c8179f484470d84e7f97c69b4fe2b",
       "value": " 47.1M/47.1M [00:05&lt;00:00, 9.60MB/s]"
      }
     },
     "ef6b198581e34a5dacf9fbd06acc5e82": {
      "model_module": "@jupyter-widgets/base",
      "model_module_version": "1.2.0",
      "model_name": "LayoutModel",
      "state": {
       "_model_module": "@jupyter-widgets/base",
       "_model_module_version": "1.2.0",
       "_model_name": "LayoutModel",
       "_view_count": null,
       "_view_module": "@jupyter-widgets/base",
       "_view_module_version": "1.2.0",
       "_view_name": "LayoutView",
       "align_content": null,
       "align_items": null,
       "align_self": null,
       "border": null,
       "bottom": null,
       "display": null,
       "flex": null,
       "flex_flow": null,
       "grid_area": null,
       "grid_auto_columns": null,
       "grid_auto_flow": null,
       "grid_auto_rows": null,
       "grid_column": null,
       "grid_gap": null,
       "grid_row": null,
       "grid_template_areas": null,
       "grid_template_columns": null,
       "grid_template_rows": null,
       "height": null,
       "justify_content": null,
       "justify_items": null,
       "left": null,
       "margin": null,
       "max_height": null,
       "max_width": null,
       "min_height": null,
       "min_width": null,
       "object_fit": null,
       "object_position": null,
       "order": null,
       "overflow": null,
       "overflow_x": null,
       "overflow_y": null,
       "padding": null,
       "right": null,
       "top": null,
       "visibility": null,
       "width": null
      }
     },
     "fa48a66dc95949fb8eba3403e312e1e5": {
      "model_module": "@jupyter-widgets/controls",
      "model_module_version": "1.5.0",
      "model_name": "FloatProgressModel",
      "state": {
       "_dom_classes": [],
       "_model_module": "@jupyter-widgets/controls",
       "_model_module_version": "1.5.0",
       "_model_name": "FloatProgressModel",
       "_view_count": null,
       "_view_module": "@jupyter-widgets/controls",
       "_view_module_version": "1.5.0",
       "_view_name": "ProgressView",
       "bar_style": "success",
       "description": "100%",
       "description_tooltip": null,
       "layout": "IPY_MODEL_ef6b198581e34a5dacf9fbd06acc5e82",
       "max": 49388949,
       "min": 0,
       "orientation": "horizontal",
       "style": "IPY_MODEL_c3ed41197b674931a0944b692e2402d2",
       "value": 49388949
      }
     }
    },
    "version_major": 2,
    "version_minor": 0
   }
  }
 },
 "nbformat": 4,
 "nbformat_minor": 4
}
