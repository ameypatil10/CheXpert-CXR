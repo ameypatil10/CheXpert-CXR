{
 "cells": [
  {
   "cell_type": "code",
   "execution_count": null,
   "metadata": {
    "colab": {},
    "colab_type": "code",
    "id": "rLBO99Alz-SU"
   },
   "outputs": [],
   "source": [
    "%reload_ext autoreload\n",
    "%autoreload 2\n",
    "%matplotlib inline"
   ]
  },
  {
   "cell_type": "code",
   "execution_count": null,
   "metadata": {
    "colab": {},
    "colab_type": "code",
    "id": "Ol-2zR35-DIN"
   },
   "outputs": [],
   "source": [
    "import os\n",
    "import pandas as pd\n",
    "import numpy as np\n",
    "from itertools import cycle\n",
    "from fastai.vision import *\n",
    "from fastai.metrics import *\n",
    "\n",
    "torch.manual_seed(121)\n",
    "torch.backends.cudnn.deterministic = True\n",
    "torch.backends.cudnn.benchmark = False\n",
    "np.random.seed(121)"
   ]
  },
  {
   "cell_type": "code",
   "execution_count": null,
   "metadata": {
    "colab": {},
    "colab_type": "code",
    "id": "AsWUfNdsz-Se"
   },
   "outputs": [],
   "source": [
    "train_csv = Path('/home/amey/LTTS/data/train-u1.csv')\n",
    "valid_csv = Path('/home/amey/LTTS/data/valid.csv')\n",
    "\n",
    "ALL_LBLS = ['No Finding',\n",
    "            'Cardiomegaly',\n",
    "            'Edema',\n",
    "            'Consolidation',\n",
    "            'Atelectasis',\n",
    "            'Pleural Effusion',\n",
    "            'Enlarged Cardiomediastinum',\n",
    "            'Lung Opacity',\n",
    "            'Lung Lesion',\n",
    "            'Pneumonia',\n",
    "            'Pneumothorax',\n",
    "            'Pleural Other',\n",
    "            'Fracture',\n",
    "            'Support Devices']\n",
    "\n",
    "EVAL_LBLS = ['Cardiomegaly',\n",
    "             'Edema',\n",
    "             'Consolidation',\n",
    "             'Atelectasis',\n",
    "             'Pleural Effusion',]\n",
    "\n",
    "BS = 32\n",
    "IMG_SZ = 224\n",
    "IMG_MEAN = torch.FloatTensor([0.5027, 0.5027, 0.5027])\n",
    "IMG_STD = torch.FloatTensor([0.2915, 0.2915, 0.2915])\n",
    "GPU_IDS = [1]\n",
    "torch.cuda.set_device(1)\n",
    "\n",
    "EXP = 'fastai-weighted-densenet-224-u1'\n",
    "RES_DIR = 'results/'+EXP+'/'\n",
    "os.makedirs('results/', exist_ok=True)\n",
    "os.makedirs(RES_DIR, exist_ok=True)"
   ]
  },
  {
   "cell_type": "code",
   "execution_count": null,
   "metadata": {
    "colab": {},
    "colab_type": "code",
    "id": "yCKtysXXz-Sk"
   },
   "outputs": [],
   "source": [
    "data_tfms = get_transforms(do_flip=True, flip_vert=False, max_rotate=None, max_zoom=1, max_lighting=None,\n",
    "                          max_warp=0, p_affine=0, p_lighting=0)\n",
    "\n",
    "train = ImageDataBunch.from_csv('/home1/amey/CheXpert-v1.0-downsampled', csv_labels=train_csv, folder='', \n",
    "                               label_col=ALL_LBLS, delimiter=',', suffix='', valid_pct=0, ds_tfms=data_tfms,\n",
    "                               bs=BS, size=IMG_SZ).normalize([IMG_MEAN, IMG_STD])\n",
    "\n",
    "valid = ImageDataBunch.from_csv('/home1/amey/CheXpert-v1.0-downsampled', csv_labels=valid_csv, folder='', \n",
    "                               label_col=ALL_LBLS, delimiter=',', suffix='', valid_pct=1, ds_tfms=data_tfms,\n",
    "                               bs=BS, size=IMG_SZ).normalize([IMG_MEAN, IMG_STD])\n",
    "\n",
    "data = DataBunch.create(train_ds=train.train_ds, valid_ds=valid.valid_ds, bs=BS)\n",
    "\n",
    "data"
   ]
  },
  {
   "cell_type": "code",
   "execution_count": null,
   "metadata": {
    "colab": {},
    "colab_type": "code",
    "id": "vLVWjmG7z-Sp"
   },
   "outputs": [],
   "source": [
    "# print(data.train_ds)\n",
    "# print(data.valid_ds)\n",
    "doc(DataBunch.create)"
   ]
  },
  {
   "cell_type": "code",
   "execution_count": null,
   "metadata": {
    "colab": {
     "base_uri": "https://localhost:8080/",
     "height": 221
    },
    "colab_type": "code",
    "id": "cmgMmhOdmEk9",
    "outputId": "da05d4bb-d982-47b6-a7cb-5dd7f4661be2"
   },
   "outputs": [],
   "source": [
    "from sklearn.metrics import roc_curve, auc\n",
    "\n",
    "class AUC(Callback):\n",
    "\n",
    "    def __init__(self, num_cl=14, pick='micro', plot_auc=False, plot_title=EXP+' - validation AUC', plot_path=RES_DIR+'valid_ROC_AUC.png'):\n",
    "        self.id_to_class = {\n",
    "            0: 'No Finding',\n",
    "            1: 'Cardiomegaly',\n",
    "            2: 'Edema',\n",
    "            3: 'Consolidation',\n",
    "            4: 'Atelectasis',\n",
    "            5: 'Pleural Effusion',\n",
    "            6: 'Enlarged Cardiomediastinum',\n",
    "            7: 'Lung Opacity',\n",
    "            8: 'Lung Lesion',\n",
    "            9: 'Pneumonia',\n",
    "            10: 'Pneumothorax',\n",
    "            11: 'Pleural Other',\n",
    "            12: 'Fracture',\n",
    "            13: 'Support Devices',\n",
    "            'micro': 'micro',\n",
    "            'macro': 'macro',\n",
    "        }\n",
    "        self.name = str(self.id_to_class[pick])+'-AUC'\n",
    "        self.pick = pick\n",
    "        self.num_cl = num_cl\n",
    "        self.plot_path = plot_path\n",
    "        self.plot_title = plot_title\n",
    "        self.plot_auc = plot_auc\n",
    "        \n",
    "    \n",
    "    def on_epoch_begin(self, **kwargs):\n",
    "        self.outputs, self.targets = [], []\n",
    "    \n",
    "    def on_batch_end(self, last_output, last_target, **kwargs):\n",
    "        self.outputs.append(last_output)\n",
    "        self.targets.append(last_target)\n",
    "    \n",
    "    def on_epoch_end(self, last_metrics, **kwargs):\n",
    "        self.outputs = torch.sigmoid(torch.cat(self.outputs)).cpu().detach().numpy()\n",
    "        self.targets = torch.cat(self.targets).cpu().numpy()\n",
    "        fpr, tpr, roc_auc = {}, {}, {}\n",
    "        for i in range(self.num_cl):\n",
    "          fpr[i], tpr[i], _ = roc_curve(self.targets[:, i], self.outputs[:, i])\n",
    "          roc_auc[self.id_to_class[i]] = auc(fpr[i], tpr[i])\n",
    "        \n",
    "        # Compute micro-average ROC curve and ROC area\n",
    "        self.targets, self.outputs = self.targets[:,1:6], self.outputs[:,1:6]\n",
    "        fpr[\"micro\"], tpr[\"micro\"], _ = roc_curve(self.targets.ravel(), self.outputs.ravel())\n",
    "        roc_auc[\"micro\"] = auc(fpr[\"micro\"], tpr[\"micro\"])\n",
    "        all_fpr = np.unique(np.concatenate([fpr[i] for i in range(1,6)]))\n",
    "\n",
    "        # Then interpolate all ROC curves at this points\n",
    "        mean_tpr = np.zeros_like(all_fpr)\n",
    "        for i in range(1,6):\n",
    "            mean_tpr += np.interp(all_fpr, fpr[i], tpr[i])\n",
    "\n",
    "        # Finally average it and compute AUC\n",
    "        mean_tpr /= 5\n",
    "\n",
    "        fpr[\"macro\"] = all_fpr\n",
    "        tpr[\"macro\"] = mean_tpr\n",
    "        roc_auc[\"macro\"] = auc(fpr[\"macro\"], tpr[\"macro\"])\n",
    "        \n",
    "        if self.plot_auc:\n",
    "            # Plot all ROC curves\n",
    "            plt.figure()\n",
    "            plt.plot(fpr[\"micro\"], tpr[\"micro\"],\n",
    "                     label='micro (auc- {0:0.2f})'.format(roc_auc[\"micro\"]),\n",
    "                     color='deeppink', linestyle=':', linewidth=2)\n",
    "\n",
    "            plt.plot(fpr[\"macro\"], tpr[\"macro\"],\n",
    "                     label='macro (auc- {0:0.2f})'.format(roc_auc[\"macro\"]),\n",
    "                     color='navy', linestyle=':', linewidth=2)\n",
    "\n",
    "            colors = cycle(['blue', 'green', 'red', 'cyan', 'yellow', 'magenta', 'black'])\n",
    "            for i, color in zip(range(12), colors):\n",
    "                if roc_auc[self.id_to_class[i]] > 0:\n",
    "                    plt.plot(fpr[i], tpr[i], color=color, lw=1,\n",
    "                         label='{0} (auc- {1:0.2f})'.format(self.id_to_class[i], roc_auc[self.id_to_class[i]]))\n",
    "\n",
    "            plt.plot([0, 1], [0, 1], 'k--', lw=2)\n",
    "            plt.xlim([0.0, 1.0])\n",
    "            plt.ylim([0.0, 1.05])\n",
    "            plt.xlabel('False Positive Rate')\n",
    "            plt.ylabel('True Positive Rate')\n",
    "            plt.title('{}'.format(self.plot_title))\n",
    "            plt.legend(loc=\"lower right\")\n",
    "            plt.savefig(self.plot_path)\n",
    "            print('roc-auc curve saved to {}'.format(self.plot_path))\n",
    "        \n",
    "        return add_metrics(last_metrics, roc_auc[self.id_to_class[self.pick]])\n",
    "\n",
    "acc_02 = partial(accuracy_thresh, thresh=0.4)"
   ]
  },
  {
   "cell_type": "code",
   "execution_count": null,
   "metadata": {},
   "outputs": [],
   "source": [
    "learn = cnn_learner(data, models.densenet121, metrics=[acc_02, AUC(pick=1), AUC(pick=2), AUC(pick=3), AUC(pick=4), AUC(pick=5), AUC(pick='micro', plot_auc=True, plot_path=RES_DIR+'valid_ROC_AUC.png')])\n",
    "learn.model = torch.nn.DataParallel(learn.model, device_ids=GPU_IDS)"
   ]
  },
  {
   "cell_type": "code",
   "execution_count": null,
   "metadata": {},
   "outputs": [],
   "source": [
    "learn.fit_one_cycle(2)"
   ]
  },
  {
   "cell_type": "code",
   "execution_count": null,
   "metadata": {},
   "outputs": [],
   "source": [
    "learn.unfreeze()\n",
    "learn.lr_find()\n",
    "learn.recorder.plot()"
   ]
  },
  {
   "cell_type": "code",
   "execution_count": null,
   "metadata": {
    "colab": {},
    "colab_type": "code",
    "id": "MjxW8euAz-Sy"
   },
   "outputs": [],
   "source": [
    "learn.unfreeze()\n",
    "learn.fit_one_cycle(2, max_lr=slice(3*1e-5,1e-4))\n",
    "learn.save(EXP+'stage-1')"
   ]
  },
  {
   "cell_type": "code",
   "execution_count": null,
   "metadata": {},
   "outputs": [],
   "source": [
    "# learn.validate(valid.valid_dl)"
   ]
  },
  {
   "cell_type": "code",
   "execution_count": null,
   "metadata": {
    "colab": {},
    "colab_type": "code",
    "id": "wTENBgoaz-S3"
   },
   "outputs": [],
   "source": [
    "learn.unfreeze()\n",
    "learn.lr_find()\n",
    "learn.recorder.plot()"
   ]
  },
  {
   "cell_type": "code",
   "execution_count": null,
   "metadata": {},
   "outputs": [],
   "source": [
    "BS = 32\n",
    "IMG_SZ = 320\n",
    "IMG_MEAN = torch.FloatTensor([0.5027, 0.5027, 0.5027])\n",
    "IMG_STD = torch.FloatTensor([0.2915, 0.2915, 0.2915])\n",
    "GPU_IDS = [1]\n",
    "torch.cuda.set_device(1)\n",
    "\n",
    "EXP = 'fastai-weighted-densenet-320-u1'\n",
    "RES_DIR = 'results/'+EXP+'/'\n",
    "os.makedirs('results/', exist_ok=True)\n",
    "os.makedirs(RES_DIR, exist_ok=True)\n",
    "\n",
    "data_tfms = get_transforms(do_flip=True, flip_vert=False, max_rotate=None, max_zoom=1, max_lighting=None,\n",
    "                          max_warp=0, p_affine=0, p_lighting=0)\n",
    "\n",
    "train = ImageDataBunch.from_csv('/home1/amey/CheXpert-v1.0-downsampled', csv_labels=train_csv, folder='', \n",
    "                               label_col=ALL_LBLS, delimiter=',', suffix='', valid_pct=0, ds_tfms=data_tfms,\n",
    "                               bs=BS, size=IMG_SZ).normalize([IMG_MEAN, IMG_STD])\n",
    "\n",
    "valid = ImageDataBunch.from_csv('/home1/amey/CheXpert-v1.0-downsampled', csv_labels=valid_csv, folder='', \n",
    "                               label_col=ALL_LBLS, delimiter=',', suffix='', valid_pct=1, ds_tfms=data_tfms,\n",
    "                               bs=BS, size=IMG_SZ).normalize([IMG_MEAN, IMG_STD])\n",
    "\n",
    "data = DataBunch.create(train_ds=train.train_ds, valid_ds=valid.valid_ds, bs=BS)\n",
    "\n",
    "data"
   ]
  },
  {
   "cell_type": "code",
   "execution_count": null,
   "metadata": {
    "colab": {
     "base_uri": "https://localhost:8080/",
     "height": 17
    },
    "colab_type": "code",
    "id": "48jC0mZkz-S5",
    "outputId": "188852d1-de3e-430a-a691-19841b77a954"
   },
   "outputs": [],
   "source": [
    "learn = cnn_learner(data, models.densenet121, metrics=[acc_02, AUC(pick=1), AUC(pick=2), AUC(pick=3), AUC(pick=4), AUC(pick=5), AUC(pick='micro', plot_auc=True, plot_path=RES_DIR+'valid_ROC_AUC.png')])\n",
    "# learn.model = torch.nn.DataParallel(learn.model, device_ids=GPU_IDS)\n",
    "learn.load('fastai-densenet-224-u1stage-1')"
   ]
  },
  {
   "cell_type": "code",
   "execution_count": null,
   "metadata": {
    "colab": {
     "base_uri": "https://localhost:8080/",
     "height": 708
    },
    "colab_type": "code",
    "id": "y11k9pJkz-S8",
    "outputId": "da6f55e9-d530-4f14-f54f-565359f9724d"
   },
   "outputs": [],
   "source": [
    "learn.unfreeze()\n",
    "learn.lr_find()\n",
    "learn.recorder.plot()"
   ]
  },
  {
   "cell_type": "code",
   "execution_count": null,
   "metadata": {
    "colab": {},
    "colab_type": "code",
    "id": "vDe5f6l7EYf4"
   },
   "outputs": [],
   "source": [
    "learn.unfreeze()\n",
    "learn.fit_one_cycle(2, max_lr=slice(1e-4,2*1e-4))\n",
    "learn.save(EXP+'-stage-1')"
   ]
  },
  {
   "cell_type": "code",
   "execution_count": null,
   "metadata": {
    "colab": {
     "base_uri": "https://localhost:8080/",
     "height": 112
    },
    "colab_type": "code",
    "id": "1-4zPCbgEcJX",
    "outputId": "52c8e7d8-7e98-4e5e-902f-db49a5243f0d"
   },
   "outputs": [],
   "source": [
    "learn.lr_find()\n",
    "learn.recorder.plot()"
   ]
  },
  {
   "cell_type": "code",
   "execution_count": null,
   "metadata": {
    "colab": {
     "base_uri": "https://localhost:8080/",
     "height": 95
    },
    "colab_type": "code",
    "id": "zAo7U2nsKJ0-",
    "outputId": "cc563965-c388-4538-bf06-60b40c08204e"
   },
   "outputs": [],
   "source": [
    "learn.unfreeze()\n",
    "learn.fit_one_cycle(2, max_lr=slice(1e-5,2*1e-5))\n",
    "learn.save(EXP+'-stage-2')"
   ]
  },
  {
   "cell_type": "code",
   "execution_count": null,
   "metadata": {
    "colab": {},
    "colab_type": "code",
    "id": "HaoZEtQDKc94"
   },
   "outputs": [],
   "source": [
    "learn = cnn_learner(data, models.densenet121, metrics=[acc_02, AUC(pick=1), AUC(pick=2), AUC(pick=3), AUC(pick=4), AUC(pick=5), AUC(pick='micro', plot_auc=True, plot_path=RES_DIR+'valid_ROC_AUC.png', plot_title=EXP+' - validation AUC')])\n",
    "learn.load('fastai-densenet-320-u1-stage-2')"
   ]
  },
  {
   "cell_type": "code",
   "execution_count": null,
   "metadata": {},
   "outputs": [],
   "source": [
    "learn.validate(valid.valid_dl)"
   ]
  },
  {
   "cell_type": "code",
   "execution_count": null,
   "metadata": {},
   "outputs": [],
   "source": [
    "learn = cnn_learner(data, models.densenet121, metrics=[acc_02, AUC(pick=1), AUC(pick=2), AUC(pick=3), AUC(pick=4), AUC(pick=5), AUC(pick='micro', plot_auc=True, plot_path=RES_DIR+'valid_ROC_AUC.png', plot_title=EXP+' - validation AUC')])\n",
    "learn.load('fastai-densenet-320-u1-stage-2')\n",
    "learn.validate(valid.valid_dl)"
   ]
  },
  {
   "cell_type": "code",
   "execution_count": null,
   "metadata": {},
   "outputs": [],
   "source": []
  }
 ],
 "metadata": {
  "accelerator": "GPU",
  "colab": {
   "collapsed_sections": [],
   "name": "fastai-baseline.ipynb",
   "provenance": []
  },
  "kernelspec": {
   "display_name": "Python 3",
   "language": "python",
   "name": "python3"
  },
  "language_info": {
   "codemirror_mode": {
    "name": "ipython",
    "version": 3
   },
   "file_extension": ".py",
   "mimetype": "text/x-python",
   "name": "python",
   "nbconvert_exporter": "python",
   "pygments_lexer": "ipython3",
   "version": "3.6.8"
  }
 },
 "nbformat": 4,
 "nbformat_minor": 1
}
