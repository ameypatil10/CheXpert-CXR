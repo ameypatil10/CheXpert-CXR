{
 "cells": [
  {
   "cell_type": "code",
   "execution_count": 1,
   "metadata": {},
   "outputs": [],
   "source": [
    "from __future__ import print_function, division\n",
    "import os\n",
    "import cv2\n",
    "import json\n",
    "import csv\n",
    "import torch\n",
    "import random\n",
    "import pandas as pd\n",
    "from skimage import io, transform\n",
    "import numpy as np\n",
    "import matplotlib.pyplot as plt\n",
    "from torch.utils.data import Dataset, DataLoader\n",
    "from torchvision import transforms, utils\n",
    "from PIL import Image\n",
    "from PIL import ImageFilter\n",
    "from tqdm import tqdm\n",
    "import pickle\n",
    "import code\n",
    "\n",
    "from hparams import hparams"
   ]
  },
  {
   "cell_type": "code",
   "execution_count": 2,
   "metadata": {},
   "outputs": [
    {
     "name": "stderr",
     "output_type": "stream",
     "text": [
      "100%|██████████| 1000/1000 [00:00<00:00, 15100.46it/s]\n"
     ]
    }
   ],
   "source": [
    "np.random.seed(121)\n",
    "\n",
    "permutations, track = {'permutation': {}, 'label': {}}, []\n",
    "for idx in tqdm(range(1000)):\n",
    "    permutations['permutation'][idx] = np.random.permutation(np.arange(0,9))\n",
    "    while(''.join(map(str, permutations['permutation'][idx])) in track):\n",
    "        permutations['permutation'][idx] = np.random.permutation(np.arange(0,9))\n",
    "    permutations['label'][''.join(map(str, permutations['permutation'][idx]))] = idx\n",
    "    track.append(''.join(map(str, permutations['permutation'][idx])))\n",
    "\n",
    "\n",
    "pickle_out = open(\"../data/jigsaw_permutations.pickle\",\"wb\")\n",
    "pickle.dump(permutations, pickle_out)\n",
    "pickle_out.close()"
   ]
  },
  {
   "cell_type": "code",
   "execution_count": null,
   "metadata": {},
   "outputs": [],
   "source": []
  },
  {
   "cell_type": "code",
   "execution_count": null,
   "metadata": {},
   "outputs": [],
   "source": []
  }
 ],
 "metadata": {
  "kernelspec": {
   "display_name": "Python 3",
   "language": "python",
   "name": "python3"
  },
  "language_info": {
   "codemirror_mode": {
    "name": "ipython",
    "version": 3
   },
   "file_extension": ".py",
   "mimetype": "text/x-python",
   "name": "python",
   "nbconvert_exporter": "python",
   "pygments_lexer": "ipython3",
   "version": "3.6.8"
  }
 },
 "nbformat": 4,
 "nbformat_minor": 2
}
